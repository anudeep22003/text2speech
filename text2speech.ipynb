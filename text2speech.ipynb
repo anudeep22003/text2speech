{
 "cells": [
  {
   "cell_type": "code",
   "execution_count": 5,
   "id": "cfdf0b2b-9ffc-4e04-89ed-63133f488e02",
   "metadata": {},
   "outputs": [],
   "source": [
    "import pyttsx3\n",
    "engine = pyttsx3.init()\n",
    "\n",
    "import requests\n",
    "from bs4 import BeautifulSoup"
   ]
  },
  {
   "cell_type": "code",
   "execution_count": null,
   "id": "4913a8ed-8106-447b-b111-b89d1b73f3f7",
   "metadata": {},
   "outputs": [],
   "source": [
    "class SpeechSynthesizer:\n",
    "    \n",
    "    \"\"\"\n",
    "    where the content will be passed and the engine will speak\n",
    "    \"\"\"\n",
    "    \n",
    "    def __init__(self, content2speak, engine):\n",
    "        self.c = content2speak\n",
    "        self.engine = engine\n",
    "        self.speak()\n",
    "    \n",
    "    def speak(self):\n",
    "        self.engine.say(self.c)\n",
    "        engine.runAndWait()\n",
    "    \n",
    "    pass\n",
    "\n",
    "class Content(SpeechSynthesizer):\n",
    "    \n",
    "    \"\"\"\n",
    "    Where the content extraction will happen\n",
    "    \"\"\"\n",
    "    \n",
    "    def __init__(self, c):\n",
    "        self.content = self.content_mapper(c)\n",
    "        self.speaker = SpeechSynthesizer(self.content, engine)\n",
    "    \n",
    "    def content_mapper(self, c):\n",
    "        \n",
    "        try:\n",
    "            res = requests.get(c)\n",
    "            soup = BeautifulSoup(res.text, 'html.parser')\n",
    "            text = soup.find('div', class_='posthaven-post-body').text\n",
    "            print(text)\n",
    "            # print(res.text)\n",
    "            return text\n",
    "        except:\n",
    "            return c\n",
    "            \n",
    "\n",
    "Content('https://anudeep.posthaven.com/the-mind-the-self-and-the-patterns-in-our-recognition')\n"
   ]
  },
  {
   "cell_type": "code",
   "execution_count": 11,
   "id": "e105a88b-9976-42ca-8692-47b59ea6d515",
   "metadata": {},
   "outputs": [],
   "source": [
    "engine.stop()"
   ]
  },
  {
   "cell_type": "code",
   "execution_count": null,
   "id": "2aa69aff-f62c-46ac-b955-7be0b7f6c7d9",
   "metadata": {},
   "outputs": [],
   "source": []
  },
  {
   "cell_type": "code",
   "execution_count": null,
   "id": "cad4d1bf-2e5c-4952-a3e6-f9d85f7fb012",
   "metadata": {},
   "outputs": [],
   "source": []
  }
 ],
 "metadata": {
  "kernelspec": {
   "display_name": "Python 3 (ipykernel)",
   "language": "python",
   "name": "python3"
  },
  "language_info": {
   "codemirror_mode": {
    "name": "ipython",
    "version": 3
   },
   "file_extension": ".py",
   "mimetype": "text/x-python",
   "name": "python",
   "nbconvert_exporter": "python",
   "pygments_lexer": "ipython3",
   "version": "3.10.0"
  }
 },
 "nbformat": 4,
 "nbformat_minor": 5
}
